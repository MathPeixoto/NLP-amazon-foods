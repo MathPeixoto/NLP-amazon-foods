{
  "nbformat": 4,
  "nbformat_minor": 0,
  "metadata": {
    "kernelspec": {
      "display_name": "Python 3",
      "language": "python",
      "name": "python3"
    },
    "language_info": {
      "codemirror_mode": {
        "name": "ipython",
        "version": 3
      },
      "file_extension": ".py",
      "mimetype": "text/x-python",
      "name": "python",
      "nbconvert_exporter": "python",
      "pygments_lexer": "ipython3",
      "version": "3.8.5"
    },
    "colab": {
      "name": "Amazon Fine Food Reviews - All Scores.ipynb",
      "provenance": [],
      "collapsed_sections": [],
      "toc_visible": true,
      "include_colab_link": true
    }
  },
  "cells": [
    {
      "cell_type": "markdown",
      "metadata": {
        "id": "view-in-github",
        "colab_type": "text"
      },
      "source": [
        "<a href=\"https://colab.research.google.com/github/MathPeixoto/NLP-amazon-foods/blob/main/Amazon_Fine_Food_Reviews_All_Scores.ipynb\" target=\"_parent\"><img src=\"https://colab.research.google.com/assets/colab-badge.svg\" alt=\"Open In Colab\"/></a>"
      ]
    },
    {
      "cell_type": "markdown",
      "metadata": {
        "id": "baQAaT5Xaw1Q"
      },
      "source": [
        "# Amazon food\n",
        "\n",
        "In this notebook I will work on a NLP model capable of predicting the food's scored based on the text review that an user has written for this food.\n",
        "\n",
        "In order to reach this purpose, I have chosen the [Amazon food dataset](https://www.kaggle.com/snap/amazon-fine-food-reviews).\n",
        "\n",
        "The \"score\" collumn is the number of rating assigned by an user for the food.\n",
        "The \"text\" collumn is the review.\n",
        "\n",
        "So, let's start."
      ]
    },
    {
      "cell_type": "markdown",
      "metadata": {
        "id": "WMlMpOfYaw1W"
      },
      "source": [
        "## Imports"
      ]
    },
    {
      "cell_type": "code",
      "metadata": {
        "id": "XolbhE6haw1X",
        "colab": {
          "base_uri": "https://localhost:8080/"
        },
        "outputId": "dbcd0297-2760-417e-d95f-d1782ffe746b"
      },
      "source": [
        "# Imports used all over the project.\n",
        "import numpy as np\n",
        "import pandas as pd\n",
        "import matplotlib.pyplot as plt\n",
        "import seaborn as sns\n",
        "import string\n",
        "import nltk\n",
        "from nltk.corpus import stopwords\n",
        "from sklearn.feature_extraction.text import CountVectorizer\n",
        "from sklearn.model_selection import train_test_split\n",
        "from sklearn.naive_bayes import MultinomialNB\n",
        "from sklearn.metrics import confusion_matrix,classification_report\n",
        "from sklearn.feature_extraction.text import TfidfTransformer\n",
        "from sklearn.naive_bayes import MultinomialNB\n",
        "from sklearn.ensemble import RandomForestClassifier\n",
        "from imblearn.under_sampling import NearMiss\n",
        "from nltk.stem import WordNetLemmatizer\n",
        "import warnings\n",
        "\n",
        "warnings.simplefilter(action='ignore', category=FutureWarning)\n",
        "sns.set_style('white')\n",
        "%matplotlib inline"
      ],
      "execution_count": null,
      "outputs": [
        {
          "output_type": "stream",
          "text": [
            "/usr/local/lib/python3.6/dist-packages/sklearn/externals/six.py:31: FutureWarning: The module is deprecated in version 0.21 and will be removed in version 0.23 since we've dropped support for Python 2.7. Please rely on the official version of six (https://pypi.org/project/six/).\n",
            "  \"(https://pypi.org/project/six/).\", FutureWarning)\n",
            "/usr/local/lib/python3.6/dist-packages/sklearn/utils/deprecation.py:144: FutureWarning: The sklearn.neighbors.base module is  deprecated in version 0.22 and will be removed in version 0.24. The corresponding classes / functions should instead be imported from sklearn.neighbors. Anything that cannot be imported from sklearn.neighbors is now part of the private API.\n",
            "  warnings.warn(message, FutureWarning)\n"
          ],
          "name": "stderr"
        }
      ]
    },
    {
      "cell_type": "code",
      "metadata": {
        "colab": {
          "base_uri": "https://localhost:8080/"
        },
        "id": "HsigrLSWaw1Y",
        "outputId": "03e862cb-0052-45bb-e7ab-a91ee7dff0c6"
      },
      "source": [
        "# I've only installed the stopwords and wordnet identifier\n",
        "nltk.download()"
      ],
      "execution_count": null,
      "outputs": [
        {
          "output_type": "stream",
          "text": [
            "NLTK Downloader\n",
            "---------------------------------------------------------------------------\n",
            "    d) Download   l) List    u) Update   c) Config   h) Help   q) Quit\n",
            "---------------------------------------------------------------------------\n",
            "Downloader> d\n",
            "\n",
            "Download which package (l=list; x=cancel)?\n",
            "  Identifier> stopwords\n",
            "    Downloading package stopwords to /root/nltk_data...\n",
            "      Package stopwords is already up-to-date!\n",
            "\n",
            "---------------------------------------------------------------------------\n",
            "    d) Download   l) List    u) Update   c) Config   h) Help   q) Quit\n",
            "---------------------------------------------------------------------------\n",
            "Downloader> d\n",
            "\n",
            "Download which package (l=list; x=cancel)?\n",
            "  Identifier> wordnet\n",
            "    Downloading package wordnet to /root/nltk_data...\n",
            "      Package wordnet is already up-to-date!\n",
            "\n",
            "---------------------------------------------------------------------------\n",
            "    d) Download   l) List    u) Update   c) Config   h) Help   q) Quit\n",
            "---------------------------------------------------------------------------\n",
            "Downloader> q\n"
          ],
          "name": "stdout"
        },
        {
          "output_type": "execute_result",
          "data": {
            "text/plain": [
              "True"
            ]
          },
          "metadata": {
            "tags": []
          },
          "execution_count": 2
        }
      ]
    },
    {
      "cell_type": "markdown",
      "metadata": {
        "id": "lXMVhrmQaw1a"
      },
      "source": [
        "## Basic info about the dataset"
      ]
    },
    {
      "cell_type": "code",
      "metadata": {
        "colab": {
          "base_uri": "https://localhost:8080/"
        },
        "id": "js1SQtweeFU4",
        "outputId": "bb6b1612-69ff-4252-c5d2-ad0fc9e7566d"
      },
      "source": [
        "from google.colab import drive\n",
        "drive.mount('/content/gdrive')"
      ],
      "execution_count": null,
      "outputs": [
        {
          "output_type": "stream",
          "text": [
            "Drive already mounted at /content/gdrive; to attempt to forcibly remount, call drive.mount(\"/content/gdrive\", force_remount=True).\n"
          ],
          "name": "stdout"
        }
      ]
    },
    {
      "cell_type": "code",
      "metadata": {
        "colab": {
          "base_uri": "https://localhost:8080/",
          "height": 678
        },
        "id": "rwOJzAwZaw1b",
        "outputId": "62c06392-5ff6-482b-b26a-28ac5c279445"
      },
      "source": [
        "reviews_dataset = pd.read_csv('/content/gdrive/MyDrive/Arquivos/Reviews.csv')\n",
        "reviews_dataset.head()"
      ],
      "execution_count": null,
      "outputs": [
        {
          "output_type": "execute_result",
          "data": {
            "text/html": [
              "<div>\n",
              "<style scoped>\n",
              "    .dataframe tbody tr th:only-of-type {\n",
              "        vertical-align: middle;\n",
              "    }\n",
              "\n",
              "    .dataframe tbody tr th {\n",
              "        vertical-align: top;\n",
              "    }\n",
              "\n",
              "    .dataframe thead th {\n",
              "        text-align: right;\n",
              "    }\n",
              "</style>\n",
              "<table border=\"1\" class=\"dataframe\">\n",
              "  <thead>\n",
              "    <tr style=\"text-align: right;\">\n",
              "      <th></th>\n",
              "      <th>Id</th>\n",
              "      <th>ProductId</th>\n",
              "      <th>UserId</th>\n",
              "      <th>ProfileName</th>\n",
              "      <th>HelpfulnessNumerator</th>\n",
              "      <th>HelpfulnessDenominator</th>\n",
              "      <th>Score</th>\n",
              "      <th>Time</th>\n",
              "      <th>Summary</th>\n",
              "      <th>Text</th>\n",
              "    </tr>\n",
              "  </thead>\n",
              "  <tbody>\n",
              "    <tr>\n",
              "      <th>0</th>\n",
              "      <td>1</td>\n",
              "      <td>B001E4KFG0</td>\n",
              "      <td>A3SGXH7AUHU8GW</td>\n",
              "      <td>delmartian</td>\n",
              "      <td>1</td>\n",
              "      <td>1</td>\n",
              "      <td>5</td>\n",
              "      <td>1303862400</td>\n",
              "      <td>Good Quality Dog Food</td>\n",
              "      <td>I have bought several of the Vitality canned d...</td>\n",
              "    </tr>\n",
              "    <tr>\n",
              "      <th>1</th>\n",
              "      <td>2</td>\n",
              "      <td>B00813GRG4</td>\n",
              "      <td>A1D87F6ZCVE5NK</td>\n",
              "      <td>dll pa</td>\n",
              "      <td>0</td>\n",
              "      <td>0</td>\n",
              "      <td>1</td>\n",
              "      <td>1346976000</td>\n",
              "      <td>Not as Advertised</td>\n",
              "      <td>Product arrived labeled as Jumbo Salted Peanut...</td>\n",
              "    </tr>\n",
              "    <tr>\n",
              "      <th>2</th>\n",
              "      <td>3</td>\n",
              "      <td>B000LQOCH0</td>\n",
              "      <td>ABXLMWJIXXAIN</td>\n",
              "      <td>Natalia Corres \"Natalia Corres\"</td>\n",
              "      <td>1</td>\n",
              "      <td>1</td>\n",
              "      <td>4</td>\n",
              "      <td>1219017600</td>\n",
              "      <td>\"Delight\" says it all</td>\n",
              "      <td>This is a confection that has been around a fe...</td>\n",
              "    </tr>\n",
              "    <tr>\n",
              "      <th>3</th>\n",
              "      <td>4</td>\n",
              "      <td>B000UA0QIQ</td>\n",
              "      <td>A395BORC6FGVXV</td>\n",
              "      <td>Karl</td>\n",
              "      <td>3</td>\n",
              "      <td>3</td>\n",
              "      <td>2</td>\n",
              "      <td>1307923200</td>\n",
              "      <td>Cough Medicine</td>\n",
              "      <td>If you are looking for the secret ingredient i...</td>\n",
              "    </tr>\n",
              "    <tr>\n",
              "      <th>4</th>\n",
              "      <td>5</td>\n",
              "      <td>B006K2ZZ7K</td>\n",
              "      <td>A1UQRSCLF8GW1T</td>\n",
              "      <td>Michael D. Bigham \"M. Wassir\"</td>\n",
              "      <td>0</td>\n",
              "      <td>0</td>\n",
              "      <td>5</td>\n",
              "      <td>1350777600</td>\n",
              "      <td>Great taffy</td>\n",
              "      <td>Great taffy at a great price.  There was a wid...</td>\n",
              "    </tr>\n",
              "  </tbody>\n",
              "</table>\n",
              "</div>"
            ],
            "text/plain": [
              "   Id  ...                                               Text\n",
              "0   1  ...  I have bought several of the Vitality canned d...\n",
              "1   2  ...  Product arrived labeled as Jumbo Salted Peanut...\n",
              "2   3  ...  This is a confection that has been around a fe...\n",
              "3   4  ...  If you are looking for the secret ingredient i...\n",
              "4   5  ...  Great taffy at a great price.  There was a wid...\n",
              "\n",
              "[5 rows x 10 columns]"
            ]
          },
          "metadata": {
            "tags": []
          },
          "execution_count": 4
        }
      ]
    },
    {
      "cell_type": "code",
      "metadata": {
        "id": "JgUh8L97aw1b",
        "colab": {
          "base_uri": "https://localhost:8080/"
        },
        "outputId": "bea10216-7200-4bcf-ec1e-aa918739dda7"
      },
      "source": [
        "reviews_dataset.info()"
      ],
      "execution_count": null,
      "outputs": [
        {
          "output_type": "stream",
          "text": [
            "<class 'pandas.core.frame.DataFrame'>\n",
            "RangeIndex: 568454 entries, 0 to 568453\n",
            "Data columns (total 10 columns):\n",
            " #   Column                  Non-Null Count   Dtype \n",
            "---  ------                  --------------   ----- \n",
            " 0   Id                      568454 non-null  int64 \n",
            " 1   ProductId               568454 non-null  object\n",
            " 2   UserId                  568454 non-null  object\n",
            " 3   ProfileName             568438 non-null  object\n",
            " 4   HelpfulnessNumerator    568454 non-null  int64 \n",
            " 5   HelpfulnessDenominator  568454 non-null  int64 \n",
            " 6   Score                   568454 non-null  int64 \n",
            " 7   Time                    568454 non-null  int64 \n",
            " 8   Summary                 568427 non-null  object\n",
            " 9   Text                    568454 non-null  object\n",
            "dtypes: int64(5), object(5)\n",
            "memory usage: 43.4+ MB\n"
          ],
          "name": "stdout"
        }
      ]
    },
    {
      "cell_type": "code",
      "metadata": {
        "id": "DxhqqDB9aw1c",
        "colab": {
          "base_uri": "https://localhost:8080/",
          "height": 300
        },
        "outputId": "48985583-f679-4413-b3b0-169414e678de"
      },
      "source": [
        "reviews_dataset.describe()"
      ],
      "execution_count": null,
      "outputs": [
        {
          "output_type": "execute_result",
          "data": {
            "text/html": [
              "<div>\n",
              "<style scoped>\n",
              "    .dataframe tbody tr th:only-of-type {\n",
              "        vertical-align: middle;\n",
              "    }\n",
              "\n",
              "    .dataframe tbody tr th {\n",
              "        vertical-align: top;\n",
              "    }\n",
              "\n",
              "    .dataframe thead th {\n",
              "        text-align: right;\n",
              "    }\n",
              "</style>\n",
              "<table border=\"1\" class=\"dataframe\">\n",
              "  <thead>\n",
              "    <tr style=\"text-align: right;\">\n",
              "      <th></th>\n",
              "      <th>Id</th>\n",
              "      <th>HelpfulnessNumerator</th>\n",
              "      <th>HelpfulnessDenominator</th>\n",
              "      <th>Score</th>\n",
              "      <th>Time</th>\n",
              "    </tr>\n",
              "  </thead>\n",
              "  <tbody>\n",
              "    <tr>\n",
              "      <th>count</th>\n",
              "      <td>568454.000000</td>\n",
              "      <td>568454.000000</td>\n",
              "      <td>568454.00000</td>\n",
              "      <td>568454.000000</td>\n",
              "      <td>5.684540e+05</td>\n",
              "    </tr>\n",
              "    <tr>\n",
              "      <th>mean</th>\n",
              "      <td>284227.500000</td>\n",
              "      <td>1.743817</td>\n",
              "      <td>2.22881</td>\n",
              "      <td>4.183199</td>\n",
              "      <td>1.296257e+09</td>\n",
              "    </tr>\n",
              "    <tr>\n",
              "      <th>std</th>\n",
              "      <td>164098.679298</td>\n",
              "      <td>7.636513</td>\n",
              "      <td>8.28974</td>\n",
              "      <td>1.310436</td>\n",
              "      <td>4.804331e+07</td>\n",
              "    </tr>\n",
              "    <tr>\n",
              "      <th>min</th>\n",
              "      <td>1.000000</td>\n",
              "      <td>0.000000</td>\n",
              "      <td>0.00000</td>\n",
              "      <td>1.000000</td>\n",
              "      <td>9.393408e+08</td>\n",
              "    </tr>\n",
              "    <tr>\n",
              "      <th>25%</th>\n",
              "      <td>142114.250000</td>\n",
              "      <td>0.000000</td>\n",
              "      <td>0.00000</td>\n",
              "      <td>4.000000</td>\n",
              "      <td>1.271290e+09</td>\n",
              "    </tr>\n",
              "    <tr>\n",
              "      <th>50%</th>\n",
              "      <td>284227.500000</td>\n",
              "      <td>0.000000</td>\n",
              "      <td>1.00000</td>\n",
              "      <td>5.000000</td>\n",
              "      <td>1.311120e+09</td>\n",
              "    </tr>\n",
              "    <tr>\n",
              "      <th>75%</th>\n",
              "      <td>426340.750000</td>\n",
              "      <td>2.000000</td>\n",
              "      <td>2.00000</td>\n",
              "      <td>5.000000</td>\n",
              "      <td>1.332720e+09</td>\n",
              "    </tr>\n",
              "    <tr>\n",
              "      <th>max</th>\n",
              "      <td>568454.000000</td>\n",
              "      <td>866.000000</td>\n",
              "      <td>923.00000</td>\n",
              "      <td>5.000000</td>\n",
              "      <td>1.351210e+09</td>\n",
              "    </tr>\n",
              "  </tbody>\n",
              "</table>\n",
              "</div>"
            ],
            "text/plain": [
              "                  Id  HelpfulnessNumerator  ...          Score          Time\n",
              "count  568454.000000         568454.000000  ...  568454.000000  5.684540e+05\n",
              "mean   284227.500000              1.743817  ...       4.183199  1.296257e+09\n",
              "std    164098.679298              7.636513  ...       1.310436  4.804331e+07\n",
              "min         1.000000              0.000000  ...       1.000000  9.393408e+08\n",
              "25%    142114.250000              0.000000  ...       4.000000  1.271290e+09\n",
              "50%    284227.500000              0.000000  ...       5.000000  1.311120e+09\n",
              "75%    426340.750000              2.000000  ...       5.000000  1.332720e+09\n",
              "max    568454.000000            866.000000  ...       5.000000  1.351210e+09\n",
              "\n",
              "[8 rows x 5 columns]"
            ]
          },
          "metadata": {
            "tags": []
          },
          "execution_count": 6
        }
      ]
    },
    {
      "cell_type": "code",
      "metadata": {
        "id": "Z-geciAOaw1c",
        "colab": {
          "base_uri": "https://localhost:8080/",
          "height": 441
        },
        "outputId": "67a1ed61-5d24-4f04-84ca-c0f27a62d644"
      },
      "source": [
        "# I will create a new collumn named \"TextLength\" that contains the amount of characters of the review text.\n",
        "reviews_dataset['TextLength'] = reviews_dataset['Text'].apply(len)\n",
        "reviews_dataset.head(3)"
      ],
      "execution_count": null,
      "outputs": [
        {
          "output_type": "execute_result",
          "data": {
            "text/html": [
              "<div>\n",
              "<style scoped>\n",
              "    .dataframe tbody tr th:only-of-type {\n",
              "        vertical-align: middle;\n",
              "    }\n",
              "\n",
              "    .dataframe tbody tr th {\n",
              "        vertical-align: top;\n",
              "    }\n",
              "\n",
              "    .dataframe thead th {\n",
              "        text-align: right;\n",
              "    }\n",
              "</style>\n",
              "<table border=\"1\" class=\"dataframe\">\n",
              "  <thead>\n",
              "    <tr style=\"text-align: right;\">\n",
              "      <th></th>\n",
              "      <th>Id</th>\n",
              "      <th>ProductId</th>\n",
              "      <th>UserId</th>\n",
              "      <th>ProfileName</th>\n",
              "      <th>HelpfulnessNumerator</th>\n",
              "      <th>HelpfulnessDenominator</th>\n",
              "      <th>Score</th>\n",
              "      <th>Time</th>\n",
              "      <th>Summary</th>\n",
              "      <th>Text</th>\n",
              "      <th>TextLength</th>\n",
              "    </tr>\n",
              "  </thead>\n",
              "  <tbody>\n",
              "    <tr>\n",
              "      <th>0</th>\n",
              "      <td>1</td>\n",
              "      <td>B001E4KFG0</td>\n",
              "      <td>A3SGXH7AUHU8GW</td>\n",
              "      <td>delmartian</td>\n",
              "      <td>1</td>\n",
              "      <td>1</td>\n",
              "      <td>5</td>\n",
              "      <td>1303862400</td>\n",
              "      <td>Good Quality Dog Food</td>\n",
              "      <td>I have bought several of the Vitality canned d...</td>\n",
              "      <td>263</td>\n",
              "    </tr>\n",
              "    <tr>\n",
              "      <th>1</th>\n",
              "      <td>2</td>\n",
              "      <td>B00813GRG4</td>\n",
              "      <td>A1D87F6ZCVE5NK</td>\n",
              "      <td>dll pa</td>\n",
              "      <td>0</td>\n",
              "      <td>0</td>\n",
              "      <td>1</td>\n",
              "      <td>1346976000</td>\n",
              "      <td>Not as Advertised</td>\n",
              "      <td>Product arrived labeled as Jumbo Salted Peanut...</td>\n",
              "      <td>190</td>\n",
              "    </tr>\n",
              "    <tr>\n",
              "      <th>2</th>\n",
              "      <td>3</td>\n",
              "      <td>B000LQOCH0</td>\n",
              "      <td>ABXLMWJIXXAIN</td>\n",
              "      <td>Natalia Corres \"Natalia Corres\"</td>\n",
              "      <td>1</td>\n",
              "      <td>1</td>\n",
              "      <td>4</td>\n",
              "      <td>1219017600</td>\n",
              "      <td>\"Delight\" says it all</td>\n",
              "      <td>This is a confection that has been around a fe...</td>\n",
              "      <td>509</td>\n",
              "    </tr>\n",
              "  </tbody>\n",
              "</table>\n",
              "</div>"
            ],
            "text/plain": [
              "   Id  ... TextLength\n",
              "0   1  ...        263\n",
              "1   2  ...        190\n",
              "2   3  ...        509\n",
              "\n",
              "[3 rows x 11 columns]"
            ]
          },
          "metadata": {
            "tags": []
          },
          "execution_count": 7
        }
      ]
    },
    {
      "cell_type": "markdown",
      "metadata": {
        "id": "lafYEeu4aw1c"
      },
      "source": [
        "## Data Visualization and Exploratory Data Analysis"
      ]
    },
    {
      "cell_type": "code",
      "metadata": {
        "id": "pWbSkJIaaw1e",
        "colab": {
          "base_uri": "https://localhost:8080/"
        },
        "outputId": "56f9d158-3b4a-43c3-8c7f-2884c21ddc2c"
      },
      "source": [
        "# It seems that the dataset contains large text reviews.\n",
        "# Actually the text reviews are grater than 20000 characters.\n",
        "reviews_dataset.TextLength.describe()"
      ],
      "execution_count": null,
      "outputs": [
        {
          "output_type": "execute_result",
          "data": {
            "text/plain": [
              "count    568454.000000\n",
              "mean        436.222083\n",
              "std         445.339741\n",
              "min          12.000000\n",
              "25%         179.000000\n",
              "50%         302.000000\n",
              "75%         527.000000\n",
              "max       21409.000000\n",
              "Name: TextLength, dtype: float64"
            ]
          },
          "metadata": {
            "tags": []
          },
          "execution_count": 9
        }
      ]
    },
    {
      "cell_type": "code",
      "metadata": {
        "id": "VsSz29EZaw1f",
        "colab": {
          "base_uri": "https://localhost:8080/",
          "height": 688
        },
        "outputId": "51b9aea3-aefa-4f89-90e9-d78c03584ab3"
      },
      "source": [
        "# The number of characters in a review does not seems to be related with food's score.\n",
        "reviews_dataset.hist(column='TextLength', by='Score', bins=10, figsize=(14,9))"
      ],
      "execution_count": null,
      "outputs": [
        {
          "output_type": "execute_result",
          "data": {
            "text/plain": [
              "array([[<matplotlib.axes._subplots.AxesSubplot object at 0x7fe339903668>,\n",
              "        <matplotlib.axes._subplots.AxesSubplot object at 0x7fe3399336a0>],\n",
              "       [<matplotlib.axes._subplots.AxesSubplot object at 0x7fe3398e3cf8>,\n",
              "        <matplotlib.axes._subplots.AxesSubplot object at 0x7fe3398a2390>],\n",
              "       [<matplotlib.axes._subplots.AxesSubplot object at 0x7fe3398529e8>,\n",
              "        <matplotlib.axes._subplots.AxesSubplot object at 0x7fe339812080>]],\n",
              "      dtype=object)"
            ]
          },
          "metadata": {
            "tags": []
          },
          "execution_count": 10
        },
        {
          "output_type": "display_data",
          "data": {
            "image/png": "[encoded data removed]",
            "text/plain": [
              "<Figure size 1008x648 with 6 Axes>"
            ]
          },
          "metadata": {
            "tags": [],
            "needs_background": "light"
          }
        }
      ]
    },
    {
      "cell_type": "code",
      "metadata": {
        "id": "e4aRWSQmaw1g",
        "colab": {
          "base_uri": "https://localhost:8080/",
          "height": 514
        },
        "outputId": "4bf29fa8-1667-408e-ca48-a1ddf6f9552a"
      },
      "source": [
        "# Here we can see that 60% of foods are scored with 5 points \n",
        "# and aproximately 15% of foods are scored with 4 points. What is pretty good!\n",
        "plt.figure(figsize=(12,8))\n",
        "ax = sns.barplot(x=\"Score\", y=\"Score\", data=reviews_dataset, \n",
        "                 estimator=lambda x: len(x) / len(reviews_dataset) * 100, )\n",
        "ax.set(ylabel=\"Percent\")"
      ],
      "execution_count": null,
      "outputs": [
        {
          "output_type": "execute_result",
          "data": {
            "text/plain": [
              "[Text(0, 0.5, 'Percent')]"
            ]
          },
          "metadata": {
            "tags": []
          },
          "execution_count": 11
        },
        {
          "output_type": "display_data",
          "data": {
            "image/png": "[encoded data removed]",
            "text/plain": [
              "<Figure size 864x576 with 1 Axes>"
            ]
          },
          "metadata": {
            "tags": [],
            "needs_background": "light"
          }
        }
      ]
    },
    {
      "cell_type": "code",
      "metadata": {
        "id": "4w9QohtWaw1g",
        "colab": {
          "base_uri": "https://localhost:8080/",
          "height": 618
        },
        "outputId": "f5be2fc9-c7ef-4c5a-977a-372d764cba3f"
      },
      "source": [
        "# Here I can see how the variables are related to each other.\n",
        "# The HelpfullnessNumerator and HelpfullnessDenominator have a strong crescente linear correlation.\n",
        "# And that was expected, given that the HelpfullnessNumerator indicates the number of users who found the review helpfull\n",
        "# and the HelpfullnessDenominator indicates if the users found the review helpful or not. \n",
        "# They are very similar features.\n",
        "plt.figure(figsize=(12,8))\n",
        "sns.heatmap(reviews_dataset.corr(), cmap='coolwarm', annot=True)"
      ],
      "execution_count": null,
      "outputs": [
        {
          "output_type": "execute_result",
          "data": {
            "text/plain": [
              "<matplotlib.axes._subplots.AxesSubplot at 0x7fe339e66278>"
            ]
          },
          "metadata": {
            "tags": []
          },
          "execution_count": 12
        },
        {
          "output_type": "display_data",
          "data": {
            "image/png": "[encoded data removed]",
            "text/plain": [
              "<Figure size 864x576 with 2 Axes>"
            ]
          },
          "metadata": {
            "tags": [],
            "needs_background": "light"
          }
        }
      ]
    },
    {
      "cell_type": "code",
      "metadata": {
        "id": "Xav45gpoaw1g",
        "colab": {
          "base_uri": "https://localhost:8080/",
          "height": 476
        },
        "outputId": "ebb8892c-face-4e4f-acc0-9fcef8240aab"
      },
      "source": [
        "# It doesn't seem to have any null value in this dataset. If does, it would appear yellow lines.\n",
        "plt.figure(figsize=(18, 7))\n",
        "sns.heatmap(reviews_dataset.isnull(),yticklabels=False,cbar=False,cmap='viridis')"
      ],
      "execution_count": null,
      "outputs": [
        {
          "output_type": "execute_result",
          "data": {
            "text/plain": [
              "<matplotlib.axes._subplots.AxesSubplot at 0x7fe336d4d048>"
            ]
          },
          "metadata": {
            "tags": []
          },
          "execution_count": 13
        },
        {
          "output_type": "display_data",
          "data": {
            "image/png": "[encoded data removed]",
            "text/plain": [
              "<Figure size 1296x504 with 1 Axes>"
            ]
          },
          "metadata": {
            "tags": [],
            "needs_background": "light"
          }
        }
      ]
    },
    {
      "cell_type": "markdown",
      "metadata": {
        "id": "A70GkxU1aw1g"
      },
      "source": [
        "## Data Preprocessing"
      ]
    },
    {
      "cell_type": "code",
      "metadata": {
        "id": "c0WHZKU5aw1h"
      },
      "source": [
        "# Function used to remove punctuations, words very usual and to extract the root of the words.\n",
        "wordnet_lemmatizer = WordNetLemmatizer()\n",
        "\n",
        "def text_process(message):\n",
        "    # Removing punctuations.\n",
        "    nopunc = [char for char in message if char not in string.punctuation]\n",
        "\n",
        "    # Putting them together to make a new string.\n",
        "    nopunc = ''.join(nopunc)\n",
        "\n",
        "    # Removing the stopwords.\n",
        "    nostopwords = [word for word in nopunc.split() if word.lower() not in stopwords.words('english')]\n",
        "\n",
        "    # Extracting the root of the words.\n",
        "    words = []\n",
        "    for word in nostopwords:\n",
        "      words.append(wordnet_lemmatizer.lemmatize(word.casefold(), pos=\"v\"))\n",
        "\n",
        "    return words"
      ],
      "execution_count": null,
      "outputs": []
    },
    {
      "cell_type": "code",
      "metadata": {
        "id": "ok8IZhE5aw1h",
        "colab": {
          "base_uri": "https://localhost:8080/"
        },
        "outputId": "a34f7ec2-588e-4153-9f25-1b25f93de58b"
      },
      "source": [
        "# Checking if the functions is working as expected.\n",
        "reviews_dataset[\"Text\"].head(3).apply(text_process)"
      ],
      "execution_count": null,
      "outputs": [
        {
          "output_type": "execute_result",
          "data": {
            "text/plain": [
              "0    [buy, several, vitality, can, dog, food, produ...\n",
              "1    [product, arrive, label, jumbo, salt, peanutst...\n",
              "2    [confection, around, centuries, light, pillowy...\n",
              "Name: Text, dtype: object"
            ]
          },
          "metadata": {
            "tags": []
          },
          "execution_count": 15
        }
      ]
    },
    {
      "cell_type": "code",
      "metadata": {
        "id": "Bl3ZB0wGaw1i"
      },
      "source": [
        "text = reviews_dataset[\"Text\"]\n",
        "score = reviews_dataset[\"Score\"]"
      ],
      "execution_count": null,
      "outputs": []
    },
    {
      "cell_type": "code",
      "metadata": {
        "id": "RYOlNBFF2q_L",
        "colab": {
          "base_uri": "https://localhost:8080/"
        },
        "outputId": "098b0a2e-cf32-437c-e777-300f03a51f4f"
      },
      "source": [
        "# As I can see, the dataset is unbalanced and this can impact in the model performance.\r\n",
        "# There's 29769 scores equal to 2 and 363122 scores equal to 5.\r\n",
        "# If the dataset don't be balanced the machine learning model can be highly skewed, what is pretty bad.\r\n",
        "np.bincount(score)"
      ],
      "execution_count": null,
      "outputs": [
        {
          "output_type": "execute_result",
          "data": {
            "text/plain": [
              "array([     0,  52268,  29769,  42640,  80655, 363122])"
            ]
          },
          "metadata": {
            "tags": []
          },
          "execution_count": 17
        }
      ]
    },
    {
      "cell_type": "code",
      "metadata": {
        "id": "MDKDUP8Aaw1i",
        "colab": {
          "base_uri": "https://localhost:8080/"
        },
        "outputId": "1ab6b1da-6342-4d6d-c68e-765173a64396"
      },
      "source": [
        "# Building the bag of words.\n",
        "bow_transformer = CountVectorizer(analyzer=text_process).fit(text)\n",
        "\n",
        "# Number os words in the bag of words.\n",
        "print(len(bow_transformer.vocabulary_))"
      ],
      "execution_count": null,
      "outputs": [
        {
          "output_type": "stream",
          "text": [
            "229043\n"
          ],
          "name": "stdout"
        }
      ]
    },
    {
      "cell_type": "code",
      "metadata": {
        "id": "laxstm_xaw1i"
      },
      "source": [
        "messages_bow = bow_transformer.transform(text)"
      ],
      "execution_count": null,
      "outputs": []
    },
    {
      "cell_type": "code",
      "metadata": {
        "id": "k9iUk0xyKUNy"
      },
      "source": [
        "# Here I'm balancing the dataset. All classes will be limited to the minority class available, wich is the score equals to 2.\n",
        "# So I'll have 29769 rows of score available to be used in training and test of the model.\n",
        "nr = NearMiss()\n",
        "balanced_text, balanced_score = nr.fit_sample(messages_bow, score)"
      ],
      "execution_count": null,
      "outputs": []
    },
    {
      "cell_type": "code",
      "metadata": {
        "colab": {
          "base_uri": "https://localhost:8080/"
        },
        "id": "2Q6nTGmqKmmH",
        "outputId": "4afae827-9ec6-4122-873c-8b11b7c66925"
      },
      "source": [
        "# Checking the balance again.\n",
        "np.bincount(balanced_score)"
      ],
      "execution_count": null,
      "outputs": [
        {
          "output_type": "execute_result",
          "data": {
            "text/plain": [
              "array([    0, 29769, 29769, 29769, 29769, 29769])"
            ]
          },
          "metadata": {
            "tags": []
          },
          "execution_count": 21
        }
      ]
    },
    {
      "cell_type": "code",
      "metadata": {
        "id": "nYqE_EeRaw1i"
      },
      "source": [
        "# Creating the Tf-Idf.\n",
        "tfidf_transformer = TfidfTransformer().fit(balanced_text)\n",
        "messages_tfidf = tfidf_transformer.transform(balanced_text)"
      ],
      "execution_count": null,
      "outputs": []
    },
    {
      "cell_type": "code",
      "metadata": {
        "id": "MG-G-65haw1i"
      },
      "source": [
        "# Spliting dataset in train and test variables.\n",
        "X_train, X_test, y_train, y_test = train_test_split(messages_tfidf, balanced_score,test_size=0.25)"
      ],
      "execution_count": null,
      "outputs": []
    },
    {
      "cell_type": "markdown",
      "metadata": {
        "id": "HjwJQpD3aw1j"
      },
      "source": [
        "## Trainning the model"
      ]
    },
    {
      "cell_type": "code",
      "metadata": {
        "id": "R72IXHm3aw1k",
        "colab": {
          "base_uri": "https://localhost:8080/"
        },
        "outputId": "6435ddf7-5db3-420d-f635-2fec1476cf5e"
      },
      "source": [
        "#Normally, the Naive Bayes model has a good performance in NLP, let's try it.\n",
        "nb_model = MultinomialNB()\n",
        "nb_model.fit(X_train, y_train)"
      ],
      "execution_count": null,
      "outputs": [
        {
          "output_type": "execute_result",
          "data": {
            "text/plain": [
              "MultinomialNB(alpha=1.0, class_prior=None, fit_prior=True)"
            ]
          },
          "metadata": {
            "tags": []
          },
          "execution_count": 33
        }
      ]
    },
    {
      "cell_type": "markdown",
      "metadata": {
        "id": "w-QuRCBkaw1k"
      },
      "source": [
        "## Metrics of the model"
      ]
    },
    {
      "cell_type": "code",
      "metadata": {
        "id": "81SuC3mIaw1k"
      },
      "source": [
        "predictions = nb_model.predict(X_test)"
      ],
      "execution_count": null,
      "outputs": []
    },
    {
      "cell_type": "code",
      "metadata": {
        "id": "xQFkNKOZaw1k",
        "colab": {
          "base_uri": "https://localhost:8080/"
        },
        "outputId": "de306ce0-618d-46b9-8144-99cbfc702b90"
      },
      "source": [
        "# Here I can see that the accuracy reached was of 50%. Not so good.\n",
        "# The f1-score was not so good as well, it can be improved.\n",
        "print(classification_report(predictions, y_test))"
      ],
      "execution_count": null,
      "outputs": [
        {
          "output_type": "stream",
          "text": [
            "              precision    recall  f1-score   support\n",
            "\n",
            "           1       0.42      0.76      0.54      4154\n",
            "           2       0.85      0.36      0.50     17716\n",
            "           3       0.38      0.45      0.41      6146\n",
            "           4       0.38      0.58      0.46      4862\n",
            "           5       0.49      0.84      0.62      4334\n",
            "\n",
            "    accuracy                           0.50     37212\n",
            "   macro avg       0.50      0.60      0.50     37212\n",
            "weighted avg       0.62      0.50      0.50     37212\n",
            "\n"
          ],
          "name": "stdout"
        }
      ]
    },
    {
      "cell_type": "code",
      "metadata": {
        "id": "hsAUWbNAaw1k",
        "colab": {
          "base_uri": "https://localhost:8080/"
        },
        "outputId": "ab49bf8b-c390-4cc3-cea8-cdfdaba9a4fb"
      },
      "source": [
        "print(confusion_matrix(y_test, predictions))"
      ],
      "execution_count": null,
      "outputs": [
        {
          "output_type": "stream",
          "text": [
            "[[3152 3935  378   53   30]\n",
            " [ 365 6295  653   74   20]\n",
            " [ 287 3880 2790  328   54]\n",
            " [ 180 2289 1563 2798  589]\n",
            " [ 170 1317  762 1609 3641]]\n"
          ],
          "name": "stdout"
        }
      ]
    },
    {
      "cell_type": "markdown",
      "metadata": {
        "id": "VZ3kOYPhaw1k"
      },
      "source": [
        "## Trying with another classifier"
      ]
    },
    {
      "cell_type": "code",
      "metadata": {
        "id": "0-XuuSJjaw1k"
      },
      "source": [
        "X_train, X_test, y_train, y_test = train_test_split(messages_tfidf, balanced_score,test_size=0.25)"
      ],
      "execution_count": null,
      "outputs": []
    },
    {
      "cell_type": "code",
      "metadata": {
        "id": "BOLSPf9Vaw1l",
        "colab": {
          "base_uri": "https://localhost:8080/"
        },
        "outputId": "1258a756-3427-454a-fd23-09438a74b69f"
      },
      "source": [
        "# The Random Forest use to be a good choice for NLP too. Let's test it.\n",
        "rf_model = RandomForestClassifier()\n",
        "rf_model.fit(X_train, y_train)"
      ],
      "execution_count": null,
      "outputs": [
        {
          "output_type": "execute_result",
          "data": {
            "text/plain": [
              "RandomForestClassifier(bootstrap=True, ccp_alpha=0.0, class_weight=None,\n",
              "                       criterion='gini', max_depth=None, max_features='auto',\n",
              "                       max_leaf_nodes=None, max_samples=None,\n",
              "                       min_impurity_decrease=0.0, min_impurity_split=None,\n",
              "                       min_samples_leaf=1, min_samples_split=2,\n",
              "                       min_weight_fraction_leaf=0.0, n_estimators=100,\n",
              "                       n_jobs=None, oob_score=False, random_state=None,\n",
              "                       verbose=0, warm_start=False)"
            ]
          },
          "metadata": {
            "tags": []
          },
          "execution_count": 29
        }
      ]
    },
    {
      "cell_type": "code",
      "metadata": {
        "id": "HXkOdyteLgcG"
      },
      "source": [
        "predictions = rf_model.predict(X_test)"
      ],
      "execution_count": null,
      "outputs": []
    },
    {
      "cell_type": "code",
      "metadata": {
        "id": "8jxJMSbCaw1l",
        "colab": {
          "base_uri": "https://localhost:8080/"
        },
        "outputId": "a57d77f6-ea6e-4765-8eba-453bf0bf01cc"
      },
      "source": [
        "# Definetely Random Forest classifier was a better choice over Naive Bayes classifier for this problem.\n",
        "# Its accuracy was of 75% and all its f1-score performed better than the Naive Bayes model as well.\n",
        "print(classification_report(predictions, y_test))"
      ],
      "execution_count": null,
      "outputs": [
        {
          "output_type": "stream",
          "text": [
            "              precision    recall  f1-score   support\n",
            "\n",
            "           1       0.83      0.70      0.76      8789\n",
            "           2       0.64      0.81      0.72      5906\n",
            "           3       0.59      0.75      0.66      5883\n",
            "           4       0.71      0.75      0.73      6987\n",
            "           5       0.96      0.74      0.84      9647\n",
            "\n",
            "    accuracy                           0.75     37212\n",
            "   macro avg       0.75      0.75      0.74     37212\n",
            "weighted avg       0.77      0.75      0.75     37212\n",
            "\n"
          ],
          "name": "stdout"
        }
      ]
    },
    {
      "cell_type": "code",
      "metadata": {
        "id": "Q0EfOT-5aw1m",
        "colab": {
          "base_uri": "https://localhost:8080/"
        },
        "outputId": "d70f7649-7560-4490-c872-426e1dfe706c"
      },
      "source": [
        "print(confusion_matrix(y_test, predictions))"
      ],
      "execution_count": null,
      "outputs": [
        {
          "output_type": "stream",
          "text": [
            "[[6111  236  325  306  388]\n",
            " [1212 4809  812  356  292]\n",
            " [ 978  810 4414  839  402]\n",
            " [ 428   47  323 5265 1391]\n",
            " [  60    4    9  221 7174]]\n"
          ],
          "name": "stdout"
        }
      ]
    },
    {
      "cell_type": "markdown",
      "metadata": {
        "id": "tX252tvcaw1m"
      },
      "source": [
        "## Conclusion\n",
        "\n",
        "In this problem we predict the scores from 1 to 5 based only in the text written, reaching an accuracy of 75%, and that's amazing.\n",
        "I did a machine learning model to understand when a text related to foods is good or bad and this can be applied in many other areas besides gastronomy.\n",
        "\n",
        "For example, you can do a sentiment analysis through emails or comments for predicting if a customer is glad or not with your service, you can classify users in social media as potential clients or not based on what they write and so on. The possibilities are huge and you just need to be prepared fot catching them."
      ]
    },
    {
      "cell_type": "code",
      "metadata": {
        "id": "sZSxegCQaw1m"
      },
      "source": [
        ""
      ],
      "execution_count": null,
      "outputs": []
    }
  ]
}